{
 "cells": [
  {
   "cell_type": "code",
   "execution_count": 2,
   "id": "be4c51ab",
   "metadata": {},
   "outputs": [
    {
     "name": "stdout",
     "output_type": "stream",
     "text": [
      "  first name last name                 type      department  yoE  salary\n",
      "0      aryan     singh   full-time employee  administration    2   20000\n",
      "1      rohan    agrwal               interm       technical    3    5000\n",
      "2       riye        sh   full-time employee   administation    6   10000\n",
      "3       yash        gh  part- time employee       technical    7   10000\n",
      "4   sidhanth         p   full-time employee       mangement    6   20000\n"
     ]
    }
   ],
   "source": [
    "import pandas as pd\n",
    "data={\n",
    "    'first name':['aryan','rohan','riye','yash','sidhanth'],\n",
    "    'last name':['singh','agrwal','sh','gh','p'],\n",
    "    'type':['full-time employee','interm','full-time employee','part- time employee','full-time employee'],\n",
    "    'department':['administration','technical','administation','technical','mangement'],\n",
    "    'yoE':[2,3,6,7,6],\n",
    "     'salary':[20000,5000,10000,10000,20000]\n",
    "    }\n",
    "df=pd.DataFrame(data)\n",
    "print(df)"
   ]
  },
  {
   "cell_type": "code",
   "execution_count": 17,
   "id": "a39b5c88",
   "metadata": {},
   "outputs": [
    {
     "data": {
      "text/html": [
       "<div>\n",
       "<style scoped>\n",
       "    .dataframe tbody tr th:only-of-type {\n",
       "        vertical-align: middle;\n",
       "    }\n",
       "\n",
       "    .dataframe tbody tr th {\n",
       "        vertical-align: top;\n",
       "    }\n",
       "\n",
       "    .dataframe thead th {\n",
       "        text-align: right;\n",
       "    }\n",
       "</style>\n",
       "<table border=\"1\" class=\"dataframe\">\n",
       "  <thead>\n",
       "    <tr style=\"text-align: right;\">\n",
       "      <th></th>\n",
       "      <th></th>\n",
       "      <th>salary</th>\n",
       "    </tr>\n",
       "    <tr>\n",
       "      <th>type</th>\n",
       "      <th>department</th>\n",
       "      <th></th>\n",
       "    </tr>\n",
       "  </thead>\n",
       "  <tbody>\n",
       "    <tr>\n",
       "      <th rowspan=\"3\" valign=\"top\">full-time employee</th>\n",
       "      <th>administation</th>\n",
       "      <td>10000</td>\n",
       "    </tr>\n",
       "    <tr>\n",
       "      <th>administration</th>\n",
       "      <td>20000</td>\n",
       "    </tr>\n",
       "    <tr>\n",
       "      <th>mangement</th>\n",
       "      <td>20000</td>\n",
       "    </tr>\n",
       "    <tr>\n",
       "      <th>interm</th>\n",
       "      <th>technical</th>\n",
       "      <td>5000</td>\n",
       "    </tr>\n",
       "    <tr>\n",
       "      <th>part- time employee</th>\n",
       "      <th>technical</th>\n",
       "      <td>10000</td>\n",
       "    </tr>\n",
       "  </tbody>\n",
       "</table>\n",
       "</div>"
      ],
      "text/plain": [
       "                                    salary\n",
       "type                department            \n",
       "full-time employee  administation    10000\n",
       "                    administration   20000\n",
       "                    mangement        20000\n",
       "interm              technical         5000\n",
       "part- time employee technical        10000"
      ]
     },
     "execution_count": 17,
     "metadata": {},
     "output_type": "execute_result"
    }
   ],
   "source": [
    "table=pd.pivot_table(df,index=['type','department'],\n",
    "                     values='salary',aggfunc='mean')\n",
    "table\n"
   ]
  },
  {
   "cell_type": "code",
   "execution_count": 23,
   "id": "18769da3",
   "metadata": {},
   "outputs": [
    {
     "name": "stdout",
     "output_type": "stream",
     "text": [
      "                             mean    sum\n",
      "                           salary salary\n",
      "type                                    \n",
      "full-time employee   16666.666667  50000\n",
      "interm                5000.000000   5000\n",
      "part- time employee  10000.000000  10000\n"
     ]
    }
   ],
   "source": [
    "pivot=pd.pivot_table(\n",
    "data=df,\n",
    "index='type',\n",
    "values='salary',\n",
    "aggfunc=['mean','sum'])\n",
    "print(pivot)"
   ]
  },
  {
   "cell_type": "code",
   "execution_count": 20,
   "id": "8f7165c0",
   "metadata": {},
   "outputs": [
    {
     "ename": "SyntaxError",
     "evalue": "invalid syntax (525519296.py, line 1)",
     "output_type": "error",
     "traceback": [
      "\u001b[1;36m  Cell \u001b[1;32mIn[20], line 1\u001b[1;36m\u001b[0m\n\u001b[1;33m    |\u001b[0m\n\u001b[1;37m    ^\u001b[0m\n\u001b[1;31mSyntaxError\u001b[0m\u001b[1;31m:\u001b[0m invalid syntax\n"
     ]
    }
   ],
   "source": [
    "|"
   ]
  },
  {
   "cell_type": "code",
   "execution_count": null,
   "id": "41c85573",
   "metadata": {},
   "outputs": [],
   "source": []
  },
  {
   "cell_type": "code",
   "execution_count": null,
   "id": "21b26dda",
   "metadata": {},
   "outputs": [],
   "source": []
  }
 ],
 "metadata": {
  "kernelspec": {
   "display_name": "Python 3 (ipykernel)",
   "language": "python",
   "name": "python3"
  },
  "language_info": {
   "codemirror_mode": {
    "name": "ipython",
    "version": 3
   },
   "file_extension": ".py",
   "mimetype": "text/x-python",
   "name": "python",
   "nbconvert_exporter": "python",
   "pygments_lexer": "ipython3",
   "version": "3.11.4"
  }
 },
 "nbformat": 4,
 "nbformat_minor": 5
}
