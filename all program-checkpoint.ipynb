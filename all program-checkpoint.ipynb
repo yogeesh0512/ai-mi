{
 "cells": [
  {
   "cell_type": "code",
   "execution_count": 2,
   "id": "263a2530",
   "metadata": {},
   "outputs": [
    {
     "name": "stdout",
     "output_type": "stream",
     "text": [
      "  subject  amount\n",
      "0  python   10000\n",
      "1    java   20000\n",
      "/n map operation to multiply amount by 2/n\n",
      "  subject  amount\n",
      "0  python   20000\n",
      "1    java   40000\n",
      "/n\n",
      "/n  operation of  filter to display only  subject column /n\n",
      "  subject  amount\n",
      "0  python   20000\n",
      "1    java   40000\n",
      "/n reduce operation to find total amount/n\n"
     ]
    },
    {
     "data": {
      "text/plain": [
       "60000"
      ]
     },
     "execution_count": 2,
     "metadata": {},
     "output_type": "execute_result"
    }
   ],
   "source": [
    "import pandas as pd\n",
    "from operator import add\n",
    "from functools import reduce\n",
    "coding={'subject':['python','java'],'amount':[10000,20000]}\n",
    "df=pd.DataFrame(coding)\n",
    "print(df)\n",
    "print(\"/n map operation to multiply amount by 2/n\")\n",
    "df['amount']=df['amount'].map(lambda x:x*2)\n",
    "print(df)\n",
    "print(\"/n\")\n",
    "print(\"/n  operation of  filter to display only  subject column /n\")\n",
    "df2=df.filter(items=['subject'])\n",
    "print(df)\n",
    "print(\"/n reduce operation to find total amount/n\")\n",
    "reduce(add,df.amount)"
   ]
  },
  {
   "cell_type": "code",
   "execution_count": null,
   "id": "76aa4911",
   "metadata": {},
   "outputs": [],
   "source": []
  }
 ],
 "metadata": {
  "kernelspec": {
   "display_name": "Python 3 (ipykernel)",
   "language": "python",
   "name": "python3"
  },
  "language_info": {
   "codemirror_mode": {
    "name": "ipython",
    "version": 3
   },
   "file_extension": ".py",
   "mimetype": "text/x-python",
   "name": "python",
   "nbconvert_exporter": "python",
   "pygments_lexer": "ipython3",
   "version": "3.11.4"
  }
 },
 "nbformat": 4,
 "nbformat_minor": 5
}
