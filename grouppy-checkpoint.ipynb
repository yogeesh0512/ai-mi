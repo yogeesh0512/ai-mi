{
 "cells": [
  {
   "cell_type": "code",
   "execution_count": 5,
   "id": "05f79419",
   "metadata": {},
   "outputs": [
    {
     "name": "stdout",
     "output_type": "stream",
     "text": [
      "  courses   fee duration  discount\n",
      "0  python  2000    30day      1000\n",
      "1    dbms  5000     6day      2000\n",
      "2    java  2600     5day      3900\n",
      "3  python  6709     2day      4000\n",
      "4   spark  5888     1day      6000\n",
      "5    java  3869     4day      3499\n"
     ]
    }
   ],
   "source": [
    "import pandas as pd\n",
    "technologies={\n",
    "    'courses':['python','dbms','java','python','spark','java'],\n",
    "    'fee':[2000,5000,2600,6709,5888,3869],\n",
    "    'duration':['30day','6day','5day','2day','1day','4day'],\n",
    "    'discount':[1000,2000,3900,4000,6000,3499]}\n",
    "df=pd.DataFrame(technologies)\n",
    "print(df)"
   ]
  },
  {
   "cell_type": "code",
   "execution_count": null,
   "id": "c5f605db",
   "metadata": {},
   "outputs": [],
   "source": []
  },
  {
   "cell_type": "code",
   "execution_count": null,
   "id": "92a1deea",
   "metadata": {},
   "outputs": [],
   "source": []
  }
 ],
 "metadata": {
  "kernelspec": {
   "display_name": "Python 3 (ipykernel)",
   "language": "python",
   "name": "python3"
  },
  "language_info": {
   "codemirror_mode": {
    "name": "ipython",
    "version": 3
   },
   "file_extension": ".py",
   "mimetype": "text/x-python",
   "name": "python",
   "nbconvert_exporter": "python",
   "pygments_lexer": "ipython3",
   "version": "3.11.4"
  }
 },
 "nbformat": 4,
 "nbformat_minor": 5
}
