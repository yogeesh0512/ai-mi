{
 "cells": [
  {
   "cell_type": "code",
   "execution_count": 1,
   "id": "38105716",
   "metadata": {},
   "outputs": [],
   "source": [
    "import numpy as np"
   ]
  },
  {
   "cell_type": "code",
   "execution_count": 4,
   "id": "c4e6f335",
   "metadata": {},
   "outputs": [],
   "source": [
    "student_marks_arr = np.array([79,45,67,53,90])\n"
   ]
  },
  {
   "cell_type": "raw",
   "id": "c71c295e",
   "metadata": {},
   "source": []
  },
  {
   "cell_type": "code",
   "execution_count": 6,
   "id": "3de11853",
   "metadata": {},
   "outputs": [
    {
     "data": {
      "text/plain": [
       "array([79, 45, 67, 53, 90])"
      ]
     },
     "execution_count": 6,
     "metadata": {},
     "output_type": "execute_result"
    }
   ],
   "source": [
    "student_marks_arr"
   ]
  },
  {
   "cell_type": "code",
   "execution_count": 7,
   "id": "87251a92",
   "metadata": {},
   "outputs": [],
   "source": [
    "car_attribute= [[18,15,18,16,17],[123,189,151,154,120],[309,420,270,320,454]]"
   ]
  },
  {
   "cell_type": "code",
   "execution_count": 9,
   "id": "95100118",
   "metadata": {},
   "outputs": [],
   "source": [
    "car_attribute_arr=np.array(car_attribute)"
   ]
  },
  {
   "cell_type": "raw",
   "id": "10b8eed7",
   "metadata": {},
   "source": []
  },
  {
   "cell_type": "code",
   "execution_count": 10,
   "id": "e4062409",
   "metadata": {},
   "outputs": [
    {
     "data": {
      "text/plain": [
       "array([[ 18,  15,  18,  16,  17],\n",
       "       [123, 189, 151, 154, 120],\n",
       "       [309, 420, 270, 320, 454]])"
      ]
     },
     "execution_count": 10,
     "metadata": {},
     "output_type": "execute_result"
    }
   ],
   "source": [
    "car_attribute_arr"
   ]
  },
  {
   "cell_type": "code",
   "execution_count": 12,
   "id": "32d446cc",
   "metadata": {},
   "outputs": [
    {
     "data": {
      "text/plain": [
       "(3, 5)"
      ]
     },
     "execution_count": 12,
     "metadata": {},
     "output_type": "execute_result"
    }
   ],
   "source": [
    "car_attribute_arr.shape"
   ]
  },
  {
   "cell_type": "code",
   "execution_count": 13,
   "id": "6d49c547",
   "metadata": {},
   "outputs": [
    {
     "data": {
      "text/plain": [
       "dtype('int32')"
      ]
     },
     "execution_count": 13,
     "metadata": {},
     "output_type": "execute_result"
    }
   ],
   "source": [
    "car_attribute_arr.dtype"
   ]
  },
  {
   "cell_type": "code",
   "execution_count": 14,
   "id": "1e0ad66b",
   "metadata": {},
   "outputs": [],
   "source": [
    "car_attribute=[[18,15,18,16,17],[130,165,150,140,150],[307,350,318,304,302]]"
   ]
  },
  {
   "cell_type": "code",
   "execution_count": 15,
   "id": "32fd4e5b",
   "metadata": {},
   "outputs": [],
   "source": [
    "car_attribute_arr=np.array(car_attribute,dtype='float')"
   ]
  },
  {
   "cell_type": "code",
   "execution_count": 16,
   "id": "89f8797f",
   "metadata": {},
   "outputs": [
    {
     "name": "stdout",
     "output_type": "stream",
     "text": [
      "[[ 18.  15.  18.  16.  17.]\n",
      " [130. 165. 150. 140. 150.]\n",
      " [307. 350. 318. 304. 302.]]\n"
     ]
    }
   ],
   "source": [
    "print(car_attribute_arr)"
   ]
  },
  {
   "cell_type": "code",
   "execution_count": 17,
   "id": "6ee7cd34",
   "metadata": {},
   "outputs": [
    {
     "name": "stdout",
     "output_type": "stream",
     "text": [
      "float64\n"
     ]
    }
   ],
   "source": [
    "print(car_attribute_arr.dtype)"
   ]
  },
  {
   "cell_type": "code",
   "execution_count": 19,
   "id": "bac4cc5b",
   "metadata": {},
   "outputs": [
    {
     "data": {
      "text/plain": [
       "'baleno'"
      ]
     },
     "execution_count": 19,
     "metadata": {},
     "output_type": "execute_result"
    }
   ],
   "source": [
    "cars=np.array(['omni e','shift','baleno','bolero'])\n",
    "cars[2]"
   ]
  },
  {
   "cell_type": "raw",
   "id": "67692ea8",
   "metadata": {},
   "source": []
  },
  {
   "cell_type": "code",
   "execution_count": 52,
   "id": "7af5b512",
   "metadata": {},
   "outputs": [
    {
     "data": {
      "text/plain": [
       "array([['fortunor', 'duster', 'maruthi800', 'omni e', 'echo'],\n",
       "       ['130', '165', '160', '150', '134']], dtype='<U11')"
      ]
     },
     "execution_count": 52,
     "metadata": {},
     "output_type": "execute_result"
    }
   ],
   "source": [
    "car_names = ['fortunor', 'duster', 'maruthi800', 'omni e','echo']\n",
    "horsepower = [130,165,160,150,134]\n",
    "car_hp_arr = np.array([car_names, horsepower])\n",
    "car_hp_arr\n",
    "\n",
    "    "
   ]
  },
  {
   "cell_type": "code",
   "execution_count": null,
   "id": "51776570",
   "metadata": {},
   "outputs": [],
   "source": []
  },
  {
   "cell_type": "code",
   "execution_count": 53,
   "id": "c94dca7d",
   "metadata": {},
   "outputs": [
    {
     "data": {
      "text/plain": [
       "array(['duster', 'scorpio', 'xuv300'], dtype='<U8')"
      ]
     },
     "execution_count": 53,
     "metadata": {},
     "output_type": "execute_result"
    }
   ],
   "source": [
    "cars=np.array(['fortuner','duster','scorpio','xuv300'])\n",
    "cars[1:4]\n"
   ]
  },
  {
   "cell_type": "code",
   "execution_count": 54,
   "id": "d7842291",
   "metadata": {},
   "outputs": [
    {
     "data": {
      "text/plain": [
       "array([['chevrolet', 'buick', 'ply', 'amc', 'ford'],\n",
       "       ['130', '165', '150', '150', '140'],\n",
       "       ['18', '15', '18', '16', '17']], dtype='<U11')"
      ]
     },
     "execution_count": 54,
     "metadata": {},
     "output_type": "execute_result"
    }
   ],
   "source": [
    "car_names = ['chevrolet','buick','ply','amc','ford']\n",
    "horsepower = [130,165,150,150,140]\n",
    "acceleration = [18,15,18,16,17]\n",
    "car_hp_acc_arr = np.array([car_names,horsepower,acceleration])\n",
    "car_hp_acc_arr\n",
    "    \n",
    "   "
   ]
  },
  {
   "cell_type": "code",
   "execution_count": 56,
   "id": "bf7d5ef8",
   "metadata": {},
   "outputs": [
    {
     "data": {
      "text/plain": [
       "array(['fortunor', 'duster', 'maruthi800', 'omni e', 'echo'], dtype='<U11')"
      ]
     },
     "execution_count": 56,
     "metadata": {},
     "output_type": "execute_result"
    }
   ],
   "source": [
    "car_hp_arr[0]"
   ]
  },
  {
   "cell_type": "code",
   "execution_count": 57,
   "id": "14a0b4c9",
   "metadata": {},
   "outputs": [
    {
     "data": {
      "text/plain": [
       "array(['130', '165', '160', '150', '134'], dtype='<U11')"
      ]
     },
     "execution_count": 57,
     "metadata": {},
     "output_type": "execute_result"
    }
   ],
   "source": [
    "car_hp_arr[1]"
   ]
  },
  {
   "cell_type": "code",
   "execution_count": null,
   "id": "b236793e",
   "metadata": {},
   "outputs": [],
   "source": []
  }
 ],
 "metadata": {
  "kernelspec": {
   "display_name": "Python 3 (ipykernel)",
   "language": "python",
   "name": "python3"
  },
  "language_info": {
   "codemirror_mode": {
    "name": "ipython",
    "version": 3
   },
   "file_extension": ".py",
   "mimetype": "text/x-python",
   "name": "python",
   "nbconvert_exporter": "python",
   "pygments_lexer": "ipython3",
   "version": "3.11.4"
  }
 },
 "nbformat": 4,
 "nbformat_minor": 5
}
