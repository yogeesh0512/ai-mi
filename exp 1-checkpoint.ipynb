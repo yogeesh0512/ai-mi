{
 "cells": [
  {
   "cell_type": "code",
   "execution_count": 18,
   "id": "bbce13c8",
   "metadata": {},
   "outputs": [],
   "source": [
    "import pandas as pd\n",
    "from operator import add\n",
    "from functools import reduce"
   ]
  },
  {
   "cell_type": "code",
   "execution_count": 19,
   "id": "8c13e5e9",
   "metadata": {},
   "outputs": [
    {
     "name": "stdout",
     "output_type": "stream",
     "text": [
      "  subject  amount\n",
      "0   pyton    1000\n",
      "1    java    3000\n"
     ]
    }
   ],
   "source": [
    "coding={'subject':['pyton','java'],'amount':[1000,3000]}\n",
    "df=pd.DataFrame(coding)\n",
    "print(df)"
   ]
  },
  {
   "cell_type": "code",
   "execution_count": 20,
   "id": "15c19bf3",
   "metadata": {},
   "outputs": [
    {
     "name": "stdout",
     "output_type": "stream",
     "text": [
      "\n",
      " map opertion to multiply amount by 2\n",
      "\n",
      "  subject  amount\n",
      "0   pyton    2000\n",
      "1    java    6000\n"
     ]
    }
   ],
   "source": [
    "print(\"\\n map opertion to multiply amount by 2\\n\")\n",
    "df['amount']=df['amount'].map(lambda  x: x*2)\n",
    "print(df)"
   ]
  },
  {
   "cell_type": "code",
   "execution_count": 22,
   "id": "e09f3cc1",
   "metadata": {},
   "outputs": [
    {
     "name": "stdout",
     "output_type": "stream",
     "text": [
      "\n",
      " operation of filter to display only subject\n",
      "\n",
      "  subject\n",
      "0   pyton\n",
      "1    java\n"
     ]
    }
   ],
   "source": [
    "print(\"\\n operation of filter to display only subject\\n\")\n",
    "df2=df.filter(items=['subject'])\n",
    "print(df2)"
   ]
  },
  {
   "cell_type": "code",
   "execution_count": 23,
   "id": "bf36c6d6",
   "metadata": {},
   "outputs": [
    {
     "name": "stdout",
     "output_type": "stream",
     "text": [
      "\n",
      " reduse operation to find total amount\n",
      "\n"
     ]
    }
   ],
   "source": [
    "print(\"\\n reduse operation to find total amount\\n\")"
   ]
  },
  {
   "cell_type": "code",
   "execution_count": 24,
   "id": "7dd9e0e7",
   "metadata": {},
   "outputs": [
    {
     "data": {
      "text/plain": [
       "8000"
      ]
     },
     "execution_count": 24,
     "metadata": {},
     "output_type": "execute_result"
    }
   ],
   "source": [
    "reduce(add,df.amount)"
   ]
  },
  {
   "cell_type": "code",
   "execution_count": null,
   "id": "8ff435e7",
   "metadata": {},
   "outputs": [],
   "source": []
  }
 ],
 "metadata": {
  "kernelspec": {
   "display_name": "Python 3 (ipykernel)",
   "language": "python",
   "name": "python3"
  },
  "language_info": {
   "codemirror_mode": {
    "name": "ipython",
    "version": 3
   },
   "file_extension": ".py",
   "mimetype": "text/x-python",
   "name": "python",
   "nbconvert_exporter": "python",
   "pygments_lexer": "ipython3",
   "version": "3.11.4"
  }
 },
 "nbformat": 4,
 "nbformat_minor": 5
}
